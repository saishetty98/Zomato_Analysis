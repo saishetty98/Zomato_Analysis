{
 "cells": [
  {
   "cell_type": "markdown",
   "id": "b2119013",
   "metadata": {},
   "source": [
    "<div>\n",
    "    <img src=\"zomato.png\" width=\"65\" style=\" float:left;\">\n",
    "    <h1 style=\"float:left;\"> ZOMATO ANALYSIS</h1>\n",
    "</div>"
   ]
  },
  {
   "cell_type": "markdown",
   "id": "f687fcc2",
   "metadata": {},
   "source": [
    "### STEP 1: IMPORTING LIBRARIES"
   ]
  },
  {
   "cell_type": "code",
   "execution_count": 1,
   "id": "ac137d33",
   "metadata": {},
   "outputs": [],
   "source": [
    "import pandas as pd\n",
    "import numpy as np \n",
    "import matplotlib.pyplot as plt\n",
    "import seaborn as sns\n",
    "%matplotlib inline"
   ]
  },
  {
   "cell_type": "code",
   "execution_count": 2,
   "id": "7b469316",
   "metadata": {},
   "outputs": [],
   "source": [
    "import warnings\n",
    "warnings.filterwarnings(\"ignore\")"
   ]
  },
  {
   "cell_type": "markdown",
   "id": "4b5bcc80",
   "metadata": {},
   "source": [
    "### STEP 2: LOADING THE ZOMATO DATASET"
   ]
  },
  {
   "cell_type": "code",
   "execution_count": 3,
   "id": "3d1f49dc",
   "metadata": {},
   "outputs": [],
   "source": [
    "path=r'C:\\Users\\saish\\Downloads\\Work\\Zomato\\Zomato.csv' \n",
    "df=pd.read_csv(path)"
   ]
  },
  {
   "cell_type": "code",
   "execution_count": 4,
   "id": "fa49b7a0",
   "metadata": {},
   "outputs": [
    {
     "data": {
      "text/html": [
       "<div>\n",
       "<style scoped>\n",
       "    .dataframe tbody tr th:only-of-type {\n",
       "        vertical-align: middle;\n",
       "    }\n",
       "\n",
       "    .dataframe tbody tr th {\n",
       "        vertical-align: top;\n",
       "    }\n",
       "\n",
       "    .dataframe thead th {\n",
       "        text-align: right;\n",
       "    }\n",
       "</style>\n",
       "<table border=\"1\" class=\"dataframe\">\n",
       "  <thead>\n",
       "    <tr style=\"text-align: right;\">\n",
       "      <th></th>\n",
       "      <th>url</th>\n",
       "      <th>address</th>\n",
       "      <th>name</th>\n",
       "      <th>online_order</th>\n",
       "      <th>book_table</th>\n",
       "      <th>rate</th>\n",
       "      <th>votes</th>\n",
       "      <th>phone</th>\n",
       "      <th>location</th>\n",
       "      <th>rest_type</th>\n",
       "      <th>dish_liked</th>\n",
       "      <th>cuisines</th>\n",
       "      <th>approx_cost(for two people)</th>\n",
       "      <th>reviews_list</th>\n",
       "      <th>menu_item</th>\n",
       "      <th>listed_in(type)</th>\n",
       "      <th>listed_in(city)</th>\n",
       "    </tr>\n",
       "  </thead>\n",
       "  <tbody>\n",
       "    <tr>\n",
       "      <th>0</th>\n",
       "      <td>https://www.zomato.com/bangalore/jalsa-banasha...</td>\n",
       "      <td>942, 21st Main Road, 2nd Stage, Banashankari, ...</td>\n",
       "      <td>Jalsa</td>\n",
       "      <td>Yes</td>\n",
       "      <td>Yes</td>\n",
       "      <td>4.1/5</td>\n",
       "      <td>775</td>\n",
       "      <td>080 42297555\\r\\n+91 9743772233</td>\n",
       "      <td>Banashankari</td>\n",
       "      <td>Casual Dining</td>\n",
       "      <td>Pasta, Lunch Buffet, Masala Papad, Paneer Laja...</td>\n",
       "      <td>North Indian, Mughlai, Chinese</td>\n",
       "      <td>800</td>\n",
       "      <td>[('Rated 4.0', 'RATED\\n  A beautiful place to ...</td>\n",
       "      <td>[]</td>\n",
       "      <td>Buffet</td>\n",
       "      <td>Banashankari</td>\n",
       "    </tr>\n",
       "    <tr>\n",
       "      <th>1</th>\n",
       "      <td>https://www.zomato.com/bangalore/spice-elephan...</td>\n",
       "      <td>2nd Floor, 80 Feet Road, Near Big Bazaar, 6th ...</td>\n",
       "      <td>Spice Elephant</td>\n",
       "      <td>Yes</td>\n",
       "      <td>No</td>\n",
       "      <td>4.1/5</td>\n",
       "      <td>787</td>\n",
       "      <td>080 41714161</td>\n",
       "      <td>Banashankari</td>\n",
       "      <td>Casual Dining</td>\n",
       "      <td>Momos, Lunch Buffet, Chocolate Nirvana, Thai G...</td>\n",
       "      <td>Chinese, North Indian, Thai</td>\n",
       "      <td>800</td>\n",
       "      <td>[('Rated 4.0', 'RATED\\n  Had been here for din...</td>\n",
       "      <td>[]</td>\n",
       "      <td>Buffet</td>\n",
       "      <td>Banashankari</td>\n",
       "    </tr>\n",
       "    <tr>\n",
       "      <th>2</th>\n",
       "      <td>https://www.zomato.com/SanchurroBangalore?cont...</td>\n",
       "      <td>1112, Next to KIMS Medical College, 17th Cross...</td>\n",
       "      <td>San Churro Cafe</td>\n",
       "      <td>Yes</td>\n",
       "      <td>No</td>\n",
       "      <td>3.8/5</td>\n",
       "      <td>918</td>\n",
       "      <td>+91 9663487993</td>\n",
       "      <td>Banashankari</td>\n",
       "      <td>Cafe, Casual Dining</td>\n",
       "      <td>Churros, Cannelloni, Minestrone Soup, Hot Choc...</td>\n",
       "      <td>Cafe, Mexican, Italian</td>\n",
       "      <td>800</td>\n",
       "      <td>[('Rated 3.0', \"RATED\\n  Ambience is not that ...</td>\n",
       "      <td>[]</td>\n",
       "      <td>Buffet</td>\n",
       "      <td>Banashankari</td>\n",
       "    </tr>\n",
       "    <tr>\n",
       "      <th>3</th>\n",
       "      <td>https://www.zomato.com/bangalore/addhuri-udupi...</td>\n",
       "      <td>1st Floor, Annakuteera, 3rd Stage, Banashankar...</td>\n",
       "      <td>Addhuri Udupi Bhojana</td>\n",
       "      <td>No</td>\n",
       "      <td>No</td>\n",
       "      <td>3.7/5</td>\n",
       "      <td>88</td>\n",
       "      <td>+91 9620009302</td>\n",
       "      <td>Banashankari</td>\n",
       "      <td>Quick Bites</td>\n",
       "      <td>Masala Dosa</td>\n",
       "      <td>South Indian, North Indian</td>\n",
       "      <td>300</td>\n",
       "      <td>[('Rated 4.0', \"RATED\\n  Great food and proper...</td>\n",
       "      <td>[]</td>\n",
       "      <td>Buffet</td>\n",
       "      <td>Banashankari</td>\n",
       "    </tr>\n",
       "    <tr>\n",
       "      <th>4</th>\n",
       "      <td>https://www.zomato.com/bangalore/grand-village...</td>\n",
       "      <td>10, 3rd Floor, Lakshmi Associates, Gandhi Baza...</td>\n",
       "      <td>Grand Village</td>\n",
       "      <td>No</td>\n",
       "      <td>No</td>\n",
       "      <td>3.8/5</td>\n",
       "      <td>166</td>\n",
       "      <td>+91 8026612447\\r\\n+91 9901210005</td>\n",
       "      <td>Basavanagudi</td>\n",
       "      <td>Casual Dining</td>\n",
       "      <td>Panipuri, Gol Gappe</td>\n",
       "      <td>North Indian, Rajasthani</td>\n",
       "      <td>600</td>\n",
       "      <td>[('Rated 4.0', 'RATED\\n  Very good restaurant ...</td>\n",
       "      <td>[]</td>\n",
       "      <td>Buffet</td>\n",
       "      <td>Banashankari</td>\n",
       "    </tr>\n",
       "  </tbody>\n",
       "</table>\n",
       "</div>"
      ],
      "text/plain": [
       "                                                 url  \\\n",
       "0  https://www.zomato.com/bangalore/jalsa-banasha...   \n",
       "1  https://www.zomato.com/bangalore/spice-elephan...   \n",
       "2  https://www.zomato.com/SanchurroBangalore?cont...   \n",
       "3  https://www.zomato.com/bangalore/addhuri-udupi...   \n",
       "4  https://www.zomato.com/bangalore/grand-village...   \n",
       "\n",
       "                                             address                   name  \\\n",
       "0  942, 21st Main Road, 2nd Stage, Banashankari, ...                  Jalsa   \n",
       "1  2nd Floor, 80 Feet Road, Near Big Bazaar, 6th ...         Spice Elephant   \n",
       "2  1112, Next to KIMS Medical College, 17th Cross...        San Churro Cafe   \n",
       "3  1st Floor, Annakuteera, 3rd Stage, Banashankar...  Addhuri Udupi Bhojana   \n",
       "4  10, 3rd Floor, Lakshmi Associates, Gandhi Baza...          Grand Village   \n",
       "\n",
       "  online_order book_table   rate  votes                             phone  \\\n",
       "0          Yes        Yes  4.1/5    775    080 42297555\\r\\n+91 9743772233   \n",
       "1          Yes         No  4.1/5    787                      080 41714161   \n",
       "2          Yes         No  3.8/5    918                    +91 9663487993   \n",
       "3           No         No  3.7/5     88                    +91 9620009302   \n",
       "4           No         No  3.8/5    166  +91 8026612447\\r\\n+91 9901210005   \n",
       "\n",
       "       location            rest_type  \\\n",
       "0  Banashankari        Casual Dining   \n",
       "1  Banashankari        Casual Dining   \n",
       "2  Banashankari  Cafe, Casual Dining   \n",
       "3  Banashankari          Quick Bites   \n",
       "4  Basavanagudi        Casual Dining   \n",
       "\n",
       "                                          dish_liked  \\\n",
       "0  Pasta, Lunch Buffet, Masala Papad, Paneer Laja...   \n",
       "1  Momos, Lunch Buffet, Chocolate Nirvana, Thai G...   \n",
       "2  Churros, Cannelloni, Minestrone Soup, Hot Choc...   \n",
       "3                                        Masala Dosa   \n",
       "4                                Panipuri, Gol Gappe   \n",
       "\n",
       "                         cuisines approx_cost(for two people)  \\\n",
       "0  North Indian, Mughlai, Chinese                         800   \n",
       "1     Chinese, North Indian, Thai                         800   \n",
       "2          Cafe, Mexican, Italian                         800   \n",
       "3      South Indian, North Indian                         300   \n",
       "4        North Indian, Rajasthani                         600   \n",
       "\n",
       "                                        reviews_list menu_item  \\\n",
       "0  [('Rated 4.0', 'RATED\\n  A beautiful place to ...        []   \n",
       "1  [('Rated 4.0', 'RATED\\n  Had been here for din...        []   \n",
       "2  [('Rated 3.0', \"RATED\\n  Ambience is not that ...        []   \n",
       "3  [('Rated 4.0', \"RATED\\n  Great food and proper...        []   \n",
       "4  [('Rated 4.0', 'RATED\\n  Very good restaurant ...        []   \n",
       "\n",
       "  listed_in(type) listed_in(city)  \n",
       "0          Buffet    Banashankari  \n",
       "1          Buffet    Banashankari  \n",
       "2          Buffet    Banashankari  \n",
       "3          Buffet    Banashankari  \n",
       "4          Buffet    Banashankari  "
      ]
     },
     "execution_count": 4,
     "metadata": {},
     "output_type": "execute_result"
    }
   ],
   "source": [
    "df.head(5)"
   ]
  },
  {
   "cell_type": "markdown",
   "id": "a5feef31",
   "metadata": {},
   "source": [
    "### STEP 3: ANALYZING THE LOADED DATASET"
   ]
  },
  {
   "cell_type": "code",
   "execution_count": 5,
   "id": "65fb378b",
   "metadata": {},
   "outputs": [
    {
     "data": {
      "text/plain": [
       "Index(['url', 'address', 'name', 'online_order', 'book_table', 'rate', 'votes',\n",
       "       'phone', 'location', 'rest_type', 'dish_liked', 'cuisines',\n",
       "       'approx_cost(for two people)', 'reviews_list', 'menu_item',\n",
       "       'listed_in(type)', 'listed_in(city)'],\n",
       "      dtype='object')"
      ]
     },
     "execution_count": 5,
     "metadata": {},
     "output_type": "execute_result"
    }
   ],
   "source": [
    "df.columns"
   ]
  },
  {
   "cell_type": "code",
   "execution_count": 6,
   "id": "bdc9bdb5",
   "metadata": {},
   "outputs": [
    {
     "name": "stdout",
     "output_type": "stream",
     "text": [
      "<class 'pandas.core.frame.DataFrame'>\n",
      "RangeIndex: 51717 entries, 0 to 51716\n",
      "Data columns (total 17 columns):\n",
      " #   Column                       Non-Null Count  Dtype \n",
      "---  ------                       --------------  ----- \n",
      " 0   url                          51717 non-null  object\n",
      " 1   address                      51717 non-null  object\n",
      " 2   name                         51717 non-null  object\n",
      " 3   online_order                 51717 non-null  object\n",
      " 4   book_table                   51717 non-null  object\n",
      " 5   rate                         43942 non-null  object\n",
      " 6   votes                        51717 non-null  int64 \n",
      " 7   phone                        50509 non-null  object\n",
      " 8   location                     51696 non-null  object\n",
      " 9   rest_type                    51490 non-null  object\n",
      " 10  dish_liked                   23639 non-null  object\n",
      " 11  cuisines                     51672 non-null  object\n",
      " 12  approx_cost(for two people)  51371 non-null  object\n",
      " 13  reviews_list                 51717 non-null  object\n",
      " 14  menu_item                    51717 non-null  object\n",
      " 15  listed_in(type)              51717 non-null  object\n",
      " 16  listed_in(city)              51717 non-null  object\n",
      "dtypes: int64(1), object(16)\n",
      "memory usage: 6.7+ MB\n"
     ]
    }
   ],
   "source": [
    "df.info()"
   ]
  },
  {
   "cell_type": "code",
   "execution_count": 7,
   "id": "eef40fb7",
   "metadata": {},
   "outputs": [
    {
     "data": {
      "text/html": [
       "<div>\n",
       "<style scoped>\n",
       "    .dataframe tbody tr th:only-of-type {\n",
       "        vertical-align: middle;\n",
       "    }\n",
       "\n",
       "    .dataframe tbody tr th {\n",
       "        vertical-align: top;\n",
       "    }\n",
       "\n",
       "    .dataframe thead th {\n",
       "        text-align: right;\n",
       "    }\n",
       "</style>\n",
       "<table border=\"1\" class=\"dataframe\">\n",
       "  <thead>\n",
       "    <tr style=\"text-align: right;\">\n",
       "      <th></th>\n",
       "      <th>url</th>\n",
       "      <th>address</th>\n",
       "      <th>name</th>\n",
       "      <th>online_order</th>\n",
       "      <th>book_table</th>\n",
       "      <th>rate</th>\n",
       "      <th>votes</th>\n",
       "      <th>phone</th>\n",
       "      <th>location</th>\n",
       "      <th>rest_type</th>\n",
       "      <th>dish_liked</th>\n",
       "      <th>cuisines</th>\n",
       "      <th>approx_cost(for two people)</th>\n",
       "      <th>reviews_list</th>\n",
       "      <th>menu_item</th>\n",
       "      <th>listed_in(type)</th>\n",
       "      <th>listed_in(city)</th>\n",
       "    </tr>\n",
       "  </thead>\n",
       "  <tbody>\n",
       "    <tr>\n",
       "      <th>count</th>\n",
       "      <td>51717</td>\n",
       "      <td>51717</td>\n",
       "      <td>51717</td>\n",
       "      <td>51717</td>\n",
       "      <td>51717</td>\n",
       "      <td>43942</td>\n",
       "      <td>51717.000000</td>\n",
       "      <td>50509</td>\n",
       "      <td>51696</td>\n",
       "      <td>51490</td>\n",
       "      <td>23639</td>\n",
       "      <td>51672</td>\n",
       "      <td>51371</td>\n",
       "      <td>51717</td>\n",
       "      <td>51717</td>\n",
       "      <td>51717</td>\n",
       "      <td>51717</td>\n",
       "    </tr>\n",
       "    <tr>\n",
       "      <th>unique</th>\n",
       "      <td>51717</td>\n",
       "      <td>11495</td>\n",
       "      <td>8792</td>\n",
       "      <td>2</td>\n",
       "      <td>2</td>\n",
       "      <td>64</td>\n",
       "      <td>NaN</td>\n",
       "      <td>14926</td>\n",
       "      <td>93</td>\n",
       "      <td>93</td>\n",
       "      <td>5271</td>\n",
       "      <td>2723</td>\n",
       "      <td>70</td>\n",
       "      <td>22513</td>\n",
       "      <td>9098</td>\n",
       "      <td>7</td>\n",
       "      <td>30</td>\n",
       "    </tr>\n",
       "    <tr>\n",
       "      <th>top</th>\n",
       "      <td>https://www.zomato.com/bangalore/jalsa-banasha...</td>\n",
       "      <td>Delivery Only</td>\n",
       "      <td>Cafe Coffee Day</td>\n",
       "      <td>Yes</td>\n",
       "      <td>No</td>\n",
       "      <td>NEW</td>\n",
       "      <td>NaN</td>\n",
       "      <td>080 43334321</td>\n",
       "      <td>BTM</td>\n",
       "      <td>Quick Bites</td>\n",
       "      <td>Biryani</td>\n",
       "      <td>North Indian</td>\n",
       "      <td>300</td>\n",
       "      <td>[]</td>\n",
       "      <td>[]</td>\n",
       "      <td>Delivery</td>\n",
       "      <td>BTM</td>\n",
       "    </tr>\n",
       "    <tr>\n",
       "      <th>freq</th>\n",
       "      <td>1</td>\n",
       "      <td>128</td>\n",
       "      <td>96</td>\n",
       "      <td>30444</td>\n",
       "      <td>45268</td>\n",
       "      <td>2208</td>\n",
       "      <td>NaN</td>\n",
       "      <td>216</td>\n",
       "      <td>5124</td>\n",
       "      <td>19132</td>\n",
       "      <td>182</td>\n",
       "      <td>2913</td>\n",
       "      <td>7576</td>\n",
       "      <td>7595</td>\n",
       "      <td>39617</td>\n",
       "      <td>25942</td>\n",
       "      <td>3279</td>\n",
       "    </tr>\n",
       "    <tr>\n",
       "      <th>mean</th>\n",
       "      <td>NaN</td>\n",
       "      <td>NaN</td>\n",
       "      <td>NaN</td>\n",
       "      <td>NaN</td>\n",
       "      <td>NaN</td>\n",
       "      <td>NaN</td>\n",
       "      <td>283.697527</td>\n",
       "      <td>NaN</td>\n",
       "      <td>NaN</td>\n",
       "      <td>NaN</td>\n",
       "      <td>NaN</td>\n",
       "      <td>NaN</td>\n",
       "      <td>NaN</td>\n",
       "      <td>NaN</td>\n",
       "      <td>NaN</td>\n",
       "      <td>NaN</td>\n",
       "      <td>NaN</td>\n",
       "    </tr>\n",
       "    <tr>\n",
       "      <th>std</th>\n",
       "      <td>NaN</td>\n",
       "      <td>NaN</td>\n",
       "      <td>NaN</td>\n",
       "      <td>NaN</td>\n",
       "      <td>NaN</td>\n",
       "      <td>NaN</td>\n",
       "      <td>803.838853</td>\n",
       "      <td>NaN</td>\n",
       "      <td>NaN</td>\n",
       "      <td>NaN</td>\n",
       "      <td>NaN</td>\n",
       "      <td>NaN</td>\n",
       "      <td>NaN</td>\n",
       "      <td>NaN</td>\n",
       "      <td>NaN</td>\n",
       "      <td>NaN</td>\n",
       "      <td>NaN</td>\n",
       "    </tr>\n",
       "    <tr>\n",
       "      <th>min</th>\n",
       "      <td>NaN</td>\n",
       "      <td>NaN</td>\n",
       "      <td>NaN</td>\n",
       "      <td>NaN</td>\n",
       "      <td>NaN</td>\n",
       "      <td>NaN</td>\n",
       "      <td>0.000000</td>\n",
       "      <td>NaN</td>\n",
       "      <td>NaN</td>\n",
       "      <td>NaN</td>\n",
       "      <td>NaN</td>\n",
       "      <td>NaN</td>\n",
       "      <td>NaN</td>\n",
       "      <td>NaN</td>\n",
       "      <td>NaN</td>\n",
       "      <td>NaN</td>\n",
       "      <td>NaN</td>\n",
       "    </tr>\n",
       "    <tr>\n",
       "      <th>25%</th>\n",
       "      <td>NaN</td>\n",
       "      <td>NaN</td>\n",
       "      <td>NaN</td>\n",
       "      <td>NaN</td>\n",
       "      <td>NaN</td>\n",
       "      <td>NaN</td>\n",
       "      <td>7.000000</td>\n",
       "      <td>NaN</td>\n",
       "      <td>NaN</td>\n",
       "      <td>NaN</td>\n",
       "      <td>NaN</td>\n",
       "      <td>NaN</td>\n",
       "      <td>NaN</td>\n",
       "      <td>NaN</td>\n",
       "      <td>NaN</td>\n",
       "      <td>NaN</td>\n",
       "      <td>NaN</td>\n",
       "    </tr>\n",
       "    <tr>\n",
       "      <th>50%</th>\n",
       "      <td>NaN</td>\n",
       "      <td>NaN</td>\n",
       "      <td>NaN</td>\n",
       "      <td>NaN</td>\n",
       "      <td>NaN</td>\n",
       "      <td>NaN</td>\n",
       "      <td>41.000000</td>\n",
       "      <td>NaN</td>\n",
       "      <td>NaN</td>\n",
       "      <td>NaN</td>\n",
       "      <td>NaN</td>\n",
       "      <td>NaN</td>\n",
       "      <td>NaN</td>\n",
       "      <td>NaN</td>\n",
       "      <td>NaN</td>\n",
       "      <td>NaN</td>\n",
       "      <td>NaN</td>\n",
       "    </tr>\n",
       "    <tr>\n",
       "      <th>75%</th>\n",
       "      <td>NaN</td>\n",
       "      <td>NaN</td>\n",
       "      <td>NaN</td>\n",
       "      <td>NaN</td>\n",
       "      <td>NaN</td>\n",
       "      <td>NaN</td>\n",
       "      <td>198.000000</td>\n",
       "      <td>NaN</td>\n",
       "      <td>NaN</td>\n",
       "      <td>NaN</td>\n",
       "      <td>NaN</td>\n",
       "      <td>NaN</td>\n",
       "      <td>NaN</td>\n",
       "      <td>NaN</td>\n",
       "      <td>NaN</td>\n",
       "      <td>NaN</td>\n",
       "      <td>NaN</td>\n",
       "    </tr>\n",
       "    <tr>\n",
       "      <th>max</th>\n",
       "      <td>NaN</td>\n",
       "      <td>NaN</td>\n",
       "      <td>NaN</td>\n",
       "      <td>NaN</td>\n",
       "      <td>NaN</td>\n",
       "      <td>NaN</td>\n",
       "      <td>16832.000000</td>\n",
       "      <td>NaN</td>\n",
       "      <td>NaN</td>\n",
       "      <td>NaN</td>\n",
       "      <td>NaN</td>\n",
       "      <td>NaN</td>\n",
       "      <td>NaN</td>\n",
       "      <td>NaN</td>\n",
       "      <td>NaN</td>\n",
       "      <td>NaN</td>\n",
       "      <td>NaN</td>\n",
       "    </tr>\n",
       "  </tbody>\n",
       "</table>\n",
       "</div>"
      ],
      "text/plain": [
       "                                                      url        address  \\\n",
       "count                                               51717          51717   \n",
       "unique                                              51717          11495   \n",
       "top     https://www.zomato.com/bangalore/jalsa-banasha...  Delivery Only   \n",
       "freq                                                    1            128   \n",
       "mean                                                  NaN            NaN   \n",
       "std                                                   NaN            NaN   \n",
       "min                                                   NaN            NaN   \n",
       "25%                                                   NaN            NaN   \n",
       "50%                                                   NaN            NaN   \n",
       "75%                                                   NaN            NaN   \n",
       "max                                                   NaN            NaN   \n",
       "\n",
       "                   name online_order book_table   rate         votes  \\\n",
       "count             51717        51717      51717  43942  51717.000000   \n",
       "unique             8792            2          2     64           NaN   \n",
       "top     Cafe Coffee Day          Yes         No    NEW           NaN   \n",
       "freq                 96        30444      45268   2208           NaN   \n",
       "mean                NaN          NaN        NaN    NaN    283.697527   \n",
       "std                 NaN          NaN        NaN    NaN    803.838853   \n",
       "min                 NaN          NaN        NaN    NaN      0.000000   \n",
       "25%                 NaN          NaN        NaN    NaN      7.000000   \n",
       "50%                 NaN          NaN        NaN    NaN     41.000000   \n",
       "75%                 NaN          NaN        NaN    NaN    198.000000   \n",
       "max                 NaN          NaN        NaN    NaN  16832.000000   \n",
       "\n",
       "               phone location    rest_type dish_liked      cuisines  \\\n",
       "count          50509    51696        51490      23639         51672   \n",
       "unique         14926       93           93       5271          2723   \n",
       "top     080 43334321      BTM  Quick Bites    Biryani  North Indian   \n",
       "freq             216     5124        19132        182          2913   \n",
       "mean             NaN      NaN          NaN        NaN           NaN   \n",
       "std              NaN      NaN          NaN        NaN           NaN   \n",
       "min              NaN      NaN          NaN        NaN           NaN   \n",
       "25%              NaN      NaN          NaN        NaN           NaN   \n",
       "50%              NaN      NaN          NaN        NaN           NaN   \n",
       "75%              NaN      NaN          NaN        NaN           NaN   \n",
       "max              NaN      NaN          NaN        NaN           NaN   \n",
       "\n",
       "       approx_cost(for two people) reviews_list menu_item listed_in(type)  \\\n",
       "count                        51371        51717     51717           51717   \n",
       "unique                          70        22513      9098               7   \n",
       "top                            300           []        []        Delivery   \n",
       "freq                          7576         7595     39617           25942   \n",
       "mean                           NaN          NaN       NaN             NaN   \n",
       "std                            NaN          NaN       NaN             NaN   \n",
       "min                            NaN          NaN       NaN             NaN   \n",
       "25%                            NaN          NaN       NaN             NaN   \n",
       "50%                            NaN          NaN       NaN             NaN   \n",
       "75%                            NaN          NaN       NaN             NaN   \n",
       "max                            NaN          NaN       NaN             NaN   \n",
       "\n",
       "       listed_in(city)  \n",
       "count            51717  \n",
       "unique              30  \n",
       "top                BTM  \n",
       "freq              3279  \n",
       "mean               NaN  \n",
       "std                NaN  \n",
       "min                NaN  \n",
       "25%                NaN  \n",
       "50%                NaN  \n",
       "75%                NaN  \n",
       "max                NaN  "
      ]
     },
     "execution_count": 7,
     "metadata": {},
     "output_type": "execute_result"
    }
   ],
   "source": [
    "df.describe(include='all')"
   ]
  },
  {
   "cell_type": "markdown",
   "id": "f5bb442b",
   "metadata": {},
   "source": [
    "### STEP 4: PROCESSING THE MISSING VALUES"
   ]
  },
  {
   "cell_type": "code",
   "execution_count": 8,
   "id": "cb3bc7b0",
   "metadata": {},
   "outputs": [
    {
     "data": {
      "text/plain": [
       "url                                0\n",
       "address                            0\n",
       "name                               0\n",
       "online_order                       0\n",
       "book_table                         0\n",
       "rate                            7775\n",
       "votes                              0\n",
       "phone                           1208\n",
       "location                          21\n",
       "rest_type                        227\n",
       "dish_liked                     28078\n",
       "cuisines                          45\n",
       "approx_cost(for two people)      346\n",
       "reviews_list                       0\n",
       "menu_item                          0\n",
       "listed_in(type)                    0\n",
       "listed_in(city)                    0\n",
       "dtype: int64"
      ]
     },
     "execution_count": 8,
     "metadata": {},
     "output_type": "execute_result"
    }
   ],
   "source": [
    "df.isnull().sum()"
   ]
  },
  {
   "cell_type": "code",
   "execution_count": null,
   "id": "80abdeb5",
   "metadata": {},
   "outputs": [],
   "source": [
    "### GETTING THE COLUMNS WHERE THE COUNT OF MISSING VALUE IS > 0"
   ]
  },
  {
   "cell_type": "code",
   "execution_count": 9,
   "id": "1882599a",
   "metadata": {},
   "outputs": [],
   "source": [
    "missing_list=[i for i in df.columns if df[i].isna().sum()>0]"
   ]
  },
  {
   "cell_type": "code",
   "execution_count": 10,
   "id": "ccbe1495",
   "metadata": {},
   "outputs": [
    {
     "data": {
      "text/plain": [
       "['rate',\n",
       " 'phone',\n",
       " 'location',\n",
       " 'rest_type',\n",
       " 'dish_liked',\n",
       " 'cuisines',\n",
       " 'approx_cost(for two people)']"
      ]
     },
     "execution_count": 10,
     "metadata": {},
     "output_type": "execute_result"
    }
   ],
   "source": [
    "missing_list"
   ]
  },
  {
   "cell_type": "code",
   "execution_count": null,
   "id": "2b4038aa",
   "metadata": {},
   "outputs": [],
   "source": [
    "### GETTING THE TOTAL % OF THE MISSING VALUES"
   ]
  },
  {
   "cell_type": "code",
   "execution_count": 11,
   "id": "3a54b48c",
   "metadata": {
    "scrolled": false
   },
   "outputs": [
    {
     "name": "stdout",
     "output_type": "stream",
     "text": [
      "rate has 15.034 of values missing\n",
      "\n",
      "phone has 2.336 of values missing\n",
      "\n",
      "location has 0.041 of values missing\n",
      "\n",
      "rest_type has 0.439 of values missing\n",
      "\n",
      "dish_liked has 54.292 of values missing\n",
      "\n",
      "cuisines has 0.087 of values missing\n",
      "\n",
      "approx_cost(for two people) has 0.669 of values missing\n",
      "\n"
     ]
    }
   ],
   "source": [
    "for i in missing_list:\n",
    "    print(\"{} has {} of values missing\\n\".format(i,round(((df[i].isnull().sum()/df[i].shape[0])*100),3)))"
   ]
  },
  {
   "cell_type": "code",
   "execution_count": null,
   "id": "e64611c3",
   "metadata": {},
   "outputs": [],
   "source": [
    "### DROPPING THE NA VALUES IN RATE COLUMN "
   ]
  },
  {
   "cell_type": "code",
   "execution_count": 12,
   "id": "a10a6bf2",
   "metadata": {},
   "outputs": [],
   "source": [
    "df.dropna(axis=0,subset=['rate'],inplace=True)"
   ]
  },
  {
   "cell_type": "code",
   "execution_count": 13,
   "id": "7000d5ab",
   "metadata": {},
   "outputs": [
    {
     "data": {
      "text/plain": [
       "(43942,)"
      ]
     },
     "execution_count": 13,
     "metadata": {},
     "output_type": "execute_result"
    }
   ],
   "source": [
    "df['rate'].shape"
   ]
  },
  {
   "cell_type": "code",
   "execution_count": 14,
   "id": "604493e2",
   "metadata": {},
   "outputs": [
    {
     "data": {
      "text/plain": [
       "dtype('O')"
      ]
     },
     "execution_count": 14,
     "metadata": {},
     "output_type": "execute_result"
    }
   ],
   "source": [
    "df['rate'].dtype"
   ]
  },
  {
   "cell_type": "code",
   "execution_count": null,
   "id": "6de2e222",
   "metadata": {},
   "outputs": [],
   "source": [
    "### REMOVING THE '/' FROM THE RATE COLUMN AND TAKING THE FIRST ELEMENT AFTER SPLITTING (Ex: 4.5/5 -> 4.5)"
   ]
  },
  {
   "cell_type": "code",
   "execution_count": 15,
   "id": "25f1b07e",
   "metadata": {},
   "outputs": [],
   "source": [
    "df['rate']=[i.split('/')[0] for i in df['rate'] ]"
   ]
  },
  {
   "cell_type": "code",
   "execution_count": 16,
   "id": "d53bd2ed",
   "metadata": {},
   "outputs": [
    {
     "data": {
      "text/plain": [
       "array(['4.1', '3.8', '3.7', '3.6', '4.6', '4.0', '4.2', '3.9', '3.1',\n",
       "       '3.0', '3.2', '3.3', '2.8', '4.4', '4.3', 'NEW', '2.9', '3.5',\n",
       "       '2.6', '3.8 ', '3.4', '4.5', '2.5', '2.7', '4.7', '2.4', '2.2',\n",
       "       '2.3', '3.4 ', '-', '3.6 ', '4.8', '3.9 ', '4.2 ', '4.0 ', '4.1 ',\n",
       "       '3.7 ', '3.1 ', '2.9 ', '3.3 ', '2.8 ', '3.5 ', '2.7 ', '2.5 ',\n",
       "       '3.2 ', '2.6 ', '4.5 ', '4.3 ', '4.4 ', '4.9', '2.1', '2.0', '1.8',\n",
       "       '4.6 ', '4.9 ', '3.0 ', '4.8 ', '2.3 ', '4.7 ', '2.4 ', '2.1 ',\n",
       "       '2.2 ', '2.0 ', '1.8 '], dtype=object)"
      ]
     },
     "execution_count": 16,
     "metadata": {},
     "output_type": "execute_result"
    }
   ],
   "source": [
    "df['rate'].unique()"
   ]
  },
  {
   "cell_type": "code",
   "execution_count": null,
   "id": "8ce8a84a",
   "metadata": {},
   "outputs": [],
   "source": [
    "### REPLACING 'NEW' AND '-' WITH 0"
   ]
  },
  {
   "cell_type": "code",
   "execution_count": 17,
   "id": "7c9f5b68",
   "metadata": {},
   "outputs": [],
   "source": [
    "df['rate']=df['rate'].replace(['NEW','-'],[0,0])"
   ]
  },
  {
   "cell_type": "code",
   "execution_count": 18,
   "id": "d7fa51df",
   "metadata": {},
   "outputs": [
    {
     "data": {
      "text/plain": [
       "array(['4.1', '3.8', '3.7', '3.6', '4.6', '4.0', '4.2', '3.9', '3.1',\n",
       "       '3.0', '3.2', '3.3', '2.8', '4.4', '4.3', 0, '2.9', '3.5', '2.6',\n",
       "       '3.8 ', '3.4', '4.5', '2.5', '2.7', '4.7', '2.4', '2.2', '2.3',\n",
       "       '3.4 ', '3.6 ', '4.8', '3.9 ', '4.2 ', '4.0 ', '4.1 ', '3.7 ',\n",
       "       '3.1 ', '2.9 ', '3.3 ', '2.8 ', '3.5 ', '2.7 ', '2.5 ', '3.2 ',\n",
       "       '2.6 ', '4.5 ', '4.3 ', '4.4 ', '4.9', '2.1', '2.0', '1.8', '4.6 ',\n",
       "       '4.9 ', '3.0 ', '4.8 ', '2.3 ', '4.7 ', '2.4 ', '2.1 ', '2.2 ',\n",
       "       '2.0 ', '1.8 '], dtype=object)"
      ]
     },
     "execution_count": 18,
     "metadata": {},
     "output_type": "execute_result"
    }
   ],
   "source": [
    "df['rate'].unique()"
   ]
  },
  {
   "cell_type": "code",
   "execution_count": 19,
   "id": "fb705472",
   "metadata": {},
   "outputs": [],
   "source": [
    "df['rate']=df['rate'].astype(float)"
   ]
  },
  {
   "cell_type": "code",
   "execution_count": 20,
   "id": "e4f1ed61",
   "metadata": {},
   "outputs": [
    {
     "data": {
      "text/plain": [
       "array([4.1, 3.8, 3.7, 3.6, 4.6, 4. , 4.2, 3.9, 3.1, 3. , 3.2, 3.3, 2.8,\n",
       "       4.4, 4.3, 0. , 2.9, 3.5, 2.6, 3.4, 4.5, 2.5, 2.7, 4.7, 2.4, 2.2,\n",
       "       2.3, 4.8, 4.9, 2.1, 2. , 1.8])"
      ]
     },
     "execution_count": 20,
     "metadata": {},
     "output_type": "execute_result"
    }
   ],
   "source": [
    "df['rate'].unique()"
   ]
  },
  {
   "cell_type": "markdown",
   "id": "de3c1469",
   "metadata": {},
   "source": [
    "### STEP 5: CREATING A RATE DF TO FIND THE DISTRIBUTION OF RATINGS"
   ]
  },
  {
   "cell_type": "code",
   "execution_count": 21,
   "id": "6135e690",
   "metadata": {},
   "outputs": [],
   "source": [
    "df_rate=df.groupby('name')['rate'].mean().to_frame().reset_index()"
   ]
  },
  {
   "cell_type": "code",
   "execution_count": 22,
   "id": "cbc5a2be",
   "metadata": {},
   "outputs": [],
   "source": [
    "df_rate.columns=['restuarant','avg_rate']"
   ]
  },
  {
   "cell_type": "code",
   "execution_count": 23,
   "id": "21cc9be7",
   "metadata": {},
   "outputs": [
    {
     "data": {
      "text/plain": [
       "<AxesSubplot:xlabel='avg_rate', ylabel='Density'>"
      ]
     },
     "execution_count": 23,
     "metadata": {},
     "output_type": "execute_result"
    },
    {
     "data": {
      "image/png": "[encoded data removed]",
      "text/plain": [
       "<Figure size 640x480 with 1 Axes>"
      ]
     },
     "metadata": {},
     "output_type": "display_data"
    }
   ],
   "source": [
    "sns.set_style(\"whitegrid\")\n",
    "sns.set_palette(\"rocket\")\n",
    "sns.distplot(df_rate['avg_rate'], hist=True, kde_kws={\"color\": \"black\"} ,color=\"red\")"
   ]
  },
  {
   "cell_type": "markdown",
   "id": "1ca84917",
   "metadata": {},
   "source": [
    "#### CONCLUSION - MOST OF THE RATING LIES BETWEEN 2.5 to 3.5 "
   ]
  },
  {
   "cell_type": "markdown",
   "id": "4c67072c",
   "metadata": {},
   "source": [
    "### STEP 6: MOST OUTLET OF A RESTUARANT"
   ]
  },
  {
   "cell_type": "code",
   "execution_count": 24,
   "id": "b924c335",
   "metadata": {},
   "outputs": [],
   "source": [
    "df_rate.columns=['restaurant','avg_rate']"
   ]
  },
  {
   "cell_type": "code",
   "execution_count": 25,
   "id": "188cf25a",
   "metadata": {},
   "outputs": [
    {
     "data": {
      "text/html": [
       "<div>\n",
       "<style scoped>\n",
       "    .dataframe tbody tr th:only-of-type {\n",
       "        vertical-align: middle;\n",
       "    }\n",
       "\n",
       "    .dataframe tbody tr th {\n",
       "        vertical-align: top;\n",
       "    }\n",
       "\n",
       "    .dataframe thead th {\n",
       "        text-align: right;\n",
       "    }\n",
       "</style>\n",
       "<table border=\"1\" class=\"dataframe\">\n",
       "  <thead>\n",
       "    <tr style=\"text-align: right;\">\n",
       "      <th></th>\n",
       "      <th>restaurant</th>\n",
       "      <th>avg_rate</th>\n",
       "    </tr>\n",
       "  </thead>\n",
       "  <tbody>\n",
       "    <tr>\n",
       "      <th>1078</th>\n",
       "      <td>Cafe Coffee Day</td>\n",
       "      <td>3.147191</td>\n",
       "    </tr>\n",
       "  </tbody>\n",
       "</table>\n",
       "</div>"
      ],
      "text/plain": [
       "           restaurant  avg_rate\n",
       "1078  Cafe Coffee Day  3.147191"
      ]
     },
     "execution_count": 25,
     "metadata": {},
     "output_type": "execute_result"
    }
   ],
   "source": [
    "df_rate[df_rate['restaurant']=='Cafe Coffee Day']"
   ]
  },
  {
   "cell_type": "code",
   "execution_count": 26,
   "id": "9b9a6d2c",
   "metadata": {},
   "outputs": [
    {
     "data": {
      "text/plain": [
       "Cafe Coffee Day        89\n",
       "Onesta                 85\n",
       "Empire Restaurant      71\n",
       "Just Bake              68\n",
       "Five Star Chicken      68\n",
       "Kanti Sweets           68\n",
       "Petoo                  64\n",
       "Baskin Robbins         63\n",
       "Pizza Hut              62\n",
       "Polar Bear             61\n",
       "Sweet Truth            60\n",
       "Domino's Pizza         60\n",
       "KFC                    60\n",
       "Beijing Bites          60\n",
       "McDonald's             59\n",
       "Smoor                  59\n",
       "Subway                 59\n",
       "Faasos                 57\n",
       "Burger King            55\n",
       "Smally's Resto Cafe    54\n",
       "Name: name, dtype: int64"
      ]
     },
     "execution_count": 26,
     "metadata": {},
     "output_type": "execute_result"
    }
   ],
   "source": [
    "chains=df['name'].value_counts()[:20]\n",
    "chains"
   ]
  },
  {
   "cell_type": "code",
   "execution_count": 27,
   "id": "93fa9e91",
   "metadata": {},
   "outputs": [
    {
     "data": {
      "text/plain": [
       "Text(0.5, 0, 'Number of Outlets')"
      ]
     },
     "execution_count": 27,
     "metadata": {},
     "output_type": "execute_result"
    },
    {
     "data": {
      "image/png": "[encoded data removed]",
      "text/plain": [
       "<Figure size 640x480 with 1 Axes>"
      ]
     },
     "metadata": {},
     "output_type": "display_data"
    }
   ],
   "source": [
    "palette = sns.color_palette(\"Reds_r\",n_colors=20)\n",
    "sns.barplot(x=chains,y=chains.index,palette=palette)\n",
    "plt.title('Most Famous Restaurants')\n",
    "plt.xlabel('Number of Outlets')"
   ]
  },
  {
   "cell_type": "markdown",
   "id": "6219f981",
   "metadata": {},
   "source": [
    "#### CONCLUSION - CAFE COFFEE DAY HAS THE MOST NUMBER OF OUTLETS (89)"
   ]
  },
  {
   "cell_type": "markdown",
   "id": "3f7e362a",
   "metadata": {},
   "source": [
    "### STEP 7: TOP RESTUARANT BASED ON RATINGS"
   ]
  },
  {
   "cell_type": "code",
   "execution_count": 28,
   "id": "8d9c337b",
   "metadata": {},
   "outputs": [
    {
     "data": {
      "text/html": [
       "<div>\n",
       "<style scoped>\n",
       "    .dataframe tbody tr th:only-of-type {\n",
       "        vertical-align: middle;\n",
       "    }\n",
       "\n",
       "    .dataframe tbody tr th {\n",
       "        vertical-align: top;\n",
       "    }\n",
       "\n",
       "    .dataframe thead th {\n",
       "        text-align: right;\n",
       "    }\n",
       "</style>\n",
       "<table border=\"1\" class=\"dataframe\">\n",
       "  <thead>\n",
       "    <tr style=\"text-align: right;\">\n",
       "      <th></th>\n",
       "      <th>restaurant</th>\n",
       "      <th>avg_rate</th>\n",
       "    </tr>\n",
       "  </thead>\n",
       "  <tbody>\n",
       "    <tr>\n",
       "      <th>469</th>\n",
       "      <td>Asia Kitchen By Mainland China</td>\n",
       "      <td>4.900000</td>\n",
       "    </tr>\n",
       "    <tr>\n",
       "      <th>1037</th>\n",
       "      <td>Byg Brewski Brewing Company</td>\n",
       "      <td>4.900000</td>\n",
       "    </tr>\n",
       "    <tr>\n",
       "      <th>5345</th>\n",
       "      <td>SantÃÂÃÂÃÂÃÂÃÂÃÂÃÂÃÂÃÂÃÂÃ...</td>\n",
       "      <td>4.900000</td>\n",
       "    </tr>\n",
       "    <tr>\n",
       "      <th>4858</th>\n",
       "      <td>Punjab Grill</td>\n",
       "      <td>4.871429</td>\n",
       "    </tr>\n",
       "    <tr>\n",
       "      <th>690</th>\n",
       "      <td>Belgian Waffle Factory</td>\n",
       "      <td>4.844828</td>\n",
       "    </tr>\n",
       "    <tr>\n",
       "      <th>4473</th>\n",
       "      <td>O.G. Variar &amp; Sons</td>\n",
       "      <td>4.800000</td>\n",
       "    </tr>\n",
       "    <tr>\n",
       "      <th>2163</th>\n",
       "      <td>Flechazo</td>\n",
       "      <td>4.800000</td>\n",
       "    </tr>\n",
       "    <tr>\n",
       "      <th>6544</th>\n",
       "      <td>The Pizza Bakery</td>\n",
       "      <td>4.800000</td>\n",
       "    </tr>\n",
       "    <tr>\n",
       "      <th>100</th>\n",
       "      <td>AB's - Absolute Barbecues</td>\n",
       "      <td>4.789474</td>\n",
       "    </tr>\n",
       "    <tr>\n",
       "      <th>636</th>\n",
       "      <td>Barbecue by Punjab Grill</td>\n",
       "      <td>4.750000</td>\n",
       "    </tr>\n",
       "  </tbody>\n",
       "</table>\n",
       "</div>"
      ],
      "text/plain": [
       "                                             restaurant  avg_rate\n",
       "469                      Asia Kitchen By Mainland China  4.900000\n",
       "1037                        Byg Brewski Brewing Company  4.900000\n",
       "5345  SantÃÂÃÂÃÂÃÂÃÂÃÂÃÂÃÂÃÂÃÂÃ...  4.900000\n",
       "4858                                       Punjab Grill  4.871429\n",
       "690                              Belgian Waffle Factory  4.844828\n",
       "4473                                 O.G. Variar & Sons  4.800000\n",
       "2163                                           Flechazo  4.800000\n",
       "6544                                   The Pizza Bakery  4.800000\n",
       "100                           AB's - Absolute Barbecues  4.789474\n",
       "636                            Barbecue by Punjab Grill  4.750000"
      ]
     },
     "execution_count": 28,
     "metadata": {},
     "output_type": "execute_result"
    }
   ],
   "source": [
    "df_top=df_rate.sort_values('avg_rate',ascending=False)\n",
    "df_top=df_top[:10]\n",
    "df_top.head(10)"
   ]
  },
  {
   "cell_type": "code",
   "execution_count": 31,
   "id": "c63870ee",
   "metadata": {},
   "outputs": [
    {
     "data": {
      "text/plain": [
       "<AxesSubplot:xlabel='avg_rate', ylabel='restaurant'>"
      ]
     },
     "execution_count": 31,
     "metadata": {},
     "output_type": "execute_result"
    },
    {
     "data": {
      "image/png": "[encoded data removed]",
      "text/plain": [
       "<Figure size 640x480 with 1 Axes>"
      ]
     },
     "metadata": {},
     "output_type": "display_data"
    }
   ],
   "source": [
    "sns.scatterplot(x=df_top['avg_rate'],y=df_top['restaurant'],data=df_top,color='red')"
   ]
  },
  {
   "cell_type": "markdown",
   "id": "a730b83b",
   "metadata": {},
   "source": [
    "#### CONCLUSION - ASIA KITCHEN BY MAINLAND CHINA HAS THE HIGHEST RATING (4.9) "
   ]
  },
  {
   "cell_type": "code",
   "execution_count": null,
   "id": "7847235a",
   "metadata": {},
   "outputs": [],
   "source": [
    "## Offline-Online"
   ]
  },
  {
   "cell_type": "code",
   "execution_count": null,
   "id": "ab1e48ee",
   "metadata": {},
   "outputs": [],
   "source": [
    "x=df['online_order'].value_counts()\n",
    "x"
   ]
  },
  {
   "cell_type": "code",
   "execution_count": null,
   "id": "8c20e2da",
   "metadata": {},
   "outputs": [],
   "source": [
    "import plotly.express as px"
   ]
  },
  {
   "cell_type": "code",
   "execution_count": null,
   "id": "9168b96d",
   "metadata": {},
   "outputs": [],
   "source": [
    "colors=['#B30909', '#FF8802']\n",
    "px.pie(df,values=x,labels=['Yes','No'],title=\"Online Order No: 35.6%  yes : 64.4%\",color_discrete_sequence=colors)"
   ]
  },
  {
   "cell_type": "code",
   "execution_count": null,
   "id": "856bce35",
   "metadata": {},
   "outputs": [],
   "source": [
    "y=df['book_table'].value_counts()\n",
    "y"
   ]
  },
  {
   "cell_type": "code",
   "execution_count": null,
   "id": "ded03802",
   "metadata": {},
   "outputs": [],
   "source": [
    "import plotly.graph_objs as go\n",
    "from plotly.offline import iplot"
   ]
  },
  {
   "cell_type": "code",
   "execution_count": null,
   "id": "f9920ff0",
   "metadata": {},
   "outputs": [],
   "source": [
    "fig = go.Figure(data=[go.Pie(labels=['book','not booked'], values=y,marker=dict(colors=colors))])\n",
    "fig.update_traces(textinfo='percent+label')\n",
    "fig.update_layout(\n",
    "    title={\"text\": \"% of Booked vs Not-Booked\"},\n",
    ")\n",
    "fig.show()\n"
   ]
  },
  {
   "cell_type": "code",
   "execution_count": null,
   "id": "df8f9ea8",
   "metadata": {},
   "outputs": [],
   "source": [
    "df['rest_type'].isna().sum()"
   ]
  },
  {
   "cell_type": "code",
   "execution_count": null,
   "id": "0b5610cc",
   "metadata": {},
   "outputs": [],
   "source": [
    "df.dropna(axis=0,subset=['rest_type'],inplace=True)"
   ]
  },
  {
   "cell_type": "code",
   "execution_count": null,
   "id": "b7f3ee1a",
   "metadata": {},
   "outputs": [],
   "source": [
    "df['rest_type'].isna().sum()"
   ]
  },
  {
   "cell_type": "code",
   "execution_count": null,
   "id": "4a4e4e28",
   "metadata": {},
   "outputs": [],
   "source": [
    "len(df['rest_type'].unique())"
   ]
  },
  {
   "cell_type": "code",
   "execution_count": null,
   "id": "307cde0b",
   "metadata": {},
   "outputs": [],
   "source": [
    "trace1 = go.Bar(x=df['rest_type'].value_counts().nlargest(20).index,\n",
    "                y=df['rest_type'].value_counts().nlargest(20))\n"
   ]
  },
  {
   "cell_type": "code",
   "execution_count": null,
   "id": "d72dd2d8",
   "metadata": {},
   "outputs": [],
   "source": [
    "iplot([trace1])"
   ]
  },
  {
   "cell_type": "code",
   "execution_count": null,
   "id": "add7ebcd",
   "metadata": {},
   "outputs": [],
   "source": [
    "df['rest_type'].value_counts().nlargest(2).values "
   ]
  },
  {
   "cell_type": "code",
   "execution_count": null,
   "id": "3be0c425",
   "metadata": {},
   "outputs": [],
   "source": [
    "#highst voted resturarant"
   ]
  },
  {
   "cell_type": "code",
   "execution_count": null,
   "id": "67e73165",
   "metadata": {},
   "outputs": [],
   "source": [
    "df.groupby('name')['votes'].sum().nlargest(20).plot.bar()\n"
   ]
  },
  {
   "cell_type": "code",
   "execution_count": null,
   "id": "d523a31b",
   "metadata": {},
   "outputs": [],
   "source": [
    "#tottal restaurant in bang"
   ]
  },
  {
   "cell_type": "code",
   "execution_count": null,
   "id": "925ce94e",
   "metadata": {},
   "outputs": [],
   "source": [
    "df.head()"
   ]
  },
  {
   "cell_type": "code",
   "execution_count": null,
   "id": "a7f66af8",
   "metadata": {},
   "outputs": [],
   "source": [
    "rest=[]\n",
    "location=[]\n",
    "for key,location_df in df.groupby('location'):\n",
    "    location.append(key)\n",
    "    rest.append(len(location_df['name'].unique()))"
   ]
  },
  {
   "cell_type": "code",
   "execution_count": null,
   "id": "e46aa8f4",
   "metadata": {},
   "outputs": [],
   "source": [
    "df_total=pd.DataFrame(zip(location,rest))\n",
    "df_total.columns=['location','rest_count']\n",
    "df_total.head()"
   ]
  },
  {
   "cell_type": "code",
   "execution_count": null,
   "id": "e5997652",
   "metadata": {},
   "outputs": [],
   "source": [
    "df_total.set_index('location',inplace=True)\n"
   ]
  },
  {
   "cell_type": "code",
   "execution_count": null,
   "id": "ae0510c0",
   "metadata": {},
   "outputs": [],
   "source": [
    "df_total.sort_values('rest_count',ascending=False)"
   ]
  },
  {
   "cell_type": "code",
   "execution_count": null,
   "id": "97980cce",
   "metadata": {},
   "outputs": [],
   "source": [
    "df_total['rest_count'].nlargest(10).plot.bar()"
   ]
  },
  {
   "cell_type": "code",
   "execution_count": null,
   "id": "d96a363f",
   "metadata": {},
   "outputs": [],
   "source": [
    "df['cuisines'].value_counts()"
   ]
  },
  {
   "cell_type": "code",
   "execution_count": null,
   "id": "b6ea62ad",
   "metadata": {},
   "outputs": [],
   "source": [
    "trace3=go.Bar(x=df['cuisines'].value_counts()[:10].index,y=df['cuisines'].value_counts()[:10].values)\n",
    "iplot([trace3])"
   ]
  },
  {
   "cell_type": "code",
   "execution_count": null,
   "id": "6d71739c",
   "metadata": {},
   "outputs": [],
   "source": [
    "sns.barplot(x=df['cuisines'].value_counts()[:10].values,y=df['cuisines'].value_counts()[:10].index,data=df)\n",
    "plt.xticks(rotation='vertical')\n"
   ]
  },
  {
   "cell_type": "code",
   "execution_count": null,
   "id": "13ff10b2",
   "metadata": {},
   "outputs": [],
   "source": [
    "pd.get_dummies(df['cuisines'])"
   ]
  },
  {
   "cell_type": "code",
   "execution_count": null,
   "id": "95428415",
   "metadata": {},
   "outputs": [],
   "source": [
    "df.head()"
   ]
  },
  {
   "cell_type": "code",
   "execution_count": null,
   "id": "63cced2c",
   "metadata": {},
   "outputs": [],
   "source": [
    "df.dropna(axis=0,subset='approx_cost(for two people)',inplace=True)"
   ]
  },
  {
   "cell_type": "code",
   "execution_count": null,
   "id": "3b4bedad",
   "metadata": {},
   "outputs": [],
   "source": [
    "sns.displot(df['approx_cost(for two people)'])"
   ]
  },
  {
   "cell_type": "code",
   "execution_count": null,
   "id": "10f95d46",
   "metadata": {},
   "outputs": [],
   "source": [
    "df['approx_cost(for two people)'].unique()"
   ]
  },
  {
   "cell_type": "code",
   "execution_count": null,
   "id": "ce4b0770",
   "metadata": {},
   "outputs": [],
   "source": [
    "df['approx_cost(for two people)']=df['approx_cost(for two people)'].apply(lambda x: x.replace(',',''))"
   ]
  },
  {
   "cell_type": "code",
   "execution_count": null,
   "id": "40b0a69b",
   "metadata": {},
   "outputs": [],
   "source": [
    "df['approx_cost(for two people)'].unique()"
   ]
  },
  {
   "cell_type": "code",
   "execution_count": null,
   "id": "7d487606",
   "metadata": {},
   "outputs": [],
   "source": [
    "sns.displot(df['approx_cost(for two people)'])"
   ]
  },
  {
   "cell_type": "code",
   "execution_count": null,
   "id": "f2855bc2",
   "metadata": {},
   "outputs": [],
   "source": [
    "df['approx_cost(for two people)']=df['approx_cost(for two people)'].astype(int)"
   ]
  },
  {
   "cell_type": "code",
   "execution_count": null,
   "id": "e3ff65ad",
   "metadata": {},
   "outputs": [],
   "source": [
    "sns.displot(df['approx_cost(for two people)'],kde=True)"
   ]
  },
  {
   "cell_type": "code",
   "execution_count": null,
   "id": "d598f8a8",
   "metadata": {},
   "outputs": [],
   "source": [
    "df['approx_cost(for two people)'].dtype"
   ]
  },
  {
   "cell_type": "code",
   "execution_count": null,
   "id": "e7fef7da",
   "metadata": {},
   "outputs": [],
   "source": [
    "##relationship"
   ]
  },
  {
   "cell_type": "code",
   "execution_count": null,
   "id": "6619a2c6",
   "metadata": {},
   "outputs": [],
   "source": [
    "sns.scatterplot(x='rate', y='approx_cost(for two people)', data=df, hue='online_order', palette=['red', 'orange'])"
   ]
  },
  {
   "cell_type": "code",
   "execution_count": null,
   "id": "c83187ea",
   "metadata": {},
   "outputs": [],
   "source": [
    "sns.boxplot(x=df['online_order'],y=df['approx_cost(for two people)'],data=df,palette=['red', 'orange'])"
   ]
  },
  {
   "cell_type": "code",
   "execution_count": null,
   "id": "7850ef62",
   "metadata": {},
   "outputs": [],
   "source": [
    "df['approx_cost(for two people)'].max()"
   ]
  },
  {
   "cell_type": "code",
   "execution_count": null,
   "id": "412cbee4",
   "metadata": {},
   "outputs": [],
   "source": [
    "df[df['approx_cost(for two people)']==6000]['name']"
   ]
  },
  {
   "cell_type": "code",
   "execution_count": null,
   "id": "51862eff",
   "metadata": {},
   "outputs": [],
   "source": [
    "data=df.copy()"
   ]
  },
  {
   "cell_type": "code",
   "execution_count": null,
   "id": "f148e937",
   "metadata": {},
   "outputs": [],
   "source": [
    "data.set_index('name',inplace=True)"
   ]
  },
  {
   "cell_type": "code",
   "execution_count": null,
   "id": "0df94a1c",
   "metadata": {},
   "outputs": [],
   "source": [
    "data['approx_cost(for two people)'].nlargest(10)"
   ]
  },
  {
   "cell_type": "code",
   "execution_count": null,
   "id": "4ec1e96f",
   "metadata": {},
   "outputs": [],
   "source": [
    "dfs=df.copy()"
   ]
  },
  {
   "cell_type": "code",
   "execution_count": null,
   "id": "8d27946b",
   "metadata": {},
   "outputs": [],
   "source": [
    "dfs.set_index('name',inplace=True)"
   ]
  },
  {
   "cell_type": "code",
   "execution_count": null,
   "id": "f50d756d",
   "metadata": {},
   "outputs": [],
   "source": [
    "dfs['approx_cost(for two people)'].nlargest(10).plot.bar()\n"
   ]
  },
  {
   "cell_type": "code",
   "execution_count": null,
   "id": "fe592dba",
   "metadata": {},
   "outputs": [],
   "source": [
    "#tottal rating above 7 under 500"
   ]
  },
  {
   "cell_type": "code",
   "execution_count": null,
   "id": "51c73f90",
   "metadata": {},
   "outputs": [],
   "source": []
  },
  {
   "cell_type": "code",
   "execution_count": null,
   "id": "11d99967",
   "metadata": {},
   "outputs": [],
   "source": [
    "##Must have\n",
    "dfs=df[(df['rate']>4) & (df['approx_cost(for two people)']<=500)]\n",
    "dfs.head()"
   ]
  },
  {
   "cell_type": "code",
   "execution_count": null,
   "id": "d0d84d02",
   "metadata": {},
   "outputs": [],
   "source": [
    "location=[]\n",
    "total=[]\n",
    "for loc,location_df in dfs.groupby('location'):\n",
    "    location.append(loc)\n",
    "    total.append(len(location_df['name'].unique()))"
   ]
  },
  {
   "cell_type": "code",
   "execution_count": null,
   "id": "bf305849",
   "metadata": {},
   "outputs": [],
   "source": [
    "#total affordable restuarant\n",
    "location_df=pd.DataFrame(zip(location,total))\n",
    "location_df.head()"
   ]
  },
  {
   "cell_type": "code",
   "execution_count": null,
   "id": "5ed2df6d",
   "metadata": {},
   "outputs": [],
   "source": [
    "location_df.columns=['location','restaurant']"
   ]
  },
  {
   "cell_type": "code",
   "execution_count": null,
   "id": "c9dee551",
   "metadata": {},
   "outputs": [],
   "source": []
  },
  {
   "cell_type": "code",
   "execution_count": null,
   "id": "c8eb9c46",
   "metadata": {},
   "outputs": [],
   "source": [
    "#finding best restuarntin acny location based on input()location and types"
   ]
  },
  {
   "cell_type": "code",
   "execution_count": null,
   "id": "39deafdc",
   "metadata": {},
   "outputs": [],
   "source": [
    "def find_best_restaurant(location,res_type):\n",
    "    budget=df[(df['approx_cost(for two people)']<=500) & (df['rate']>4.0) & (df['location']==location) & (df['rest_type']==res_type)]\n",
    "    return budget['name'].unique()\n"
   ]
  },
  {
   "cell_type": "code",
   "execution_count": null,
   "id": "30fe0038",
   "metadata": {},
   "outputs": [],
   "source": [
    "find_best_restaurant('BTM','Quick Bites')"
   ]
  },
  {
   "cell_type": "code",
   "execution_count": null,
   "id": "d080d93d",
   "metadata": {},
   "outputs": [],
   "source": [
    "#most restuatnts in location"
   ]
  },
  {
   "cell_type": "code",
   "execution_count": null,
   "id": "b8f0bff2",
   "metadata": {},
   "outputs": [],
   "source": [
    "df['location'].value_counts()[:20].plot.bar()"
   ]
  },
  {
   "cell_type": "code",
   "execution_count": null,
   "id": "11b48001",
   "metadata": {},
   "outputs": [],
   "source": [
    "#map"
   ]
  },
  {
   "cell_type": "code",
   "execution_count": null,
   "id": "c44b4efe",
   "metadata": {},
   "outputs": [],
   "source": [
    "locations=pd.DataFrame({'Name':df['location'].unique()})\n",
    "locations.head()"
   ]
  },
  {
   "cell_type": "code",
   "execution_count": null,
   "id": "b24ae934",
   "metadata": {},
   "outputs": [],
   "source": [
    "!pip install geopy "
   ]
  },
  {
   "cell_type": "code",
   "execution_count": null,
   "id": "de0b75ed",
   "metadata": {},
   "outputs": [],
   "source": [
    "from geopy.geocoders import Nominatim"
   ]
  },
  {
   "cell_type": "code",
   "execution_count": null,
   "id": "5ef13c35",
   "metadata": {},
   "outputs": [],
   "source": [
    "geolocator=Nominatim(user_agent='app')"
   ]
  },
  {
   "cell_type": "code",
   "execution_count": null,
   "id": "f5b4d1f2",
   "metadata": {},
   "outputs": [],
   "source": [
    "lat_lon=[]\n",
    "for loc in locations['Name']:\n",
    "    location=geolocator.geocode(loc)\n",
    "    if location is None:\n",
    "        lat_lon.append(np.nan)\n",
    "    else:\n",
    "        geo=(location.latitude,location.longitude)\n",
    "        lat_lon.append(geo)"
   ]
  },
  {
   "cell_type": "code",
   "execution_count": null,
   "id": "6b349a6b",
   "metadata": {},
   "outputs": [],
   "source": [
    "locations['geo_loc']=lat_lon"
   ]
  },
  {
   "cell_type": "code",
   "execution_count": null,
   "id": "b4c6acca",
   "metadata": {},
   "outputs": [],
   "source": [
    "locations.head()"
   ]
  },
  {
   "cell_type": "code",
   "execution_count": null,
   "id": "0b05015a",
   "metadata": {},
   "outputs": [],
   "source": [
    "Rest_locations=pd.DataFrame(df['location'].value_counts().reset_index())"
   ]
  },
  {
   "cell_type": "code",
   "execution_count": null,
   "id": "add32278",
   "metadata": {},
   "outputs": [],
   "source": [
    "Rest_locations.columns=['Name',\"count\"]"
   ]
  },
  {
   "cell_type": "code",
   "execution_count": null,
   "id": "40ac889b",
   "metadata": {},
   "outputs": [],
   "source": [
    "Rest_locations.head()"
   ]
  },
  {
   "cell_type": "code",
   "execution_count": null,
   "id": "0eefed97",
   "metadata": {},
   "outputs": [],
   "source": [
    "Rest_locations=Rest_locations.merge(locations,on='Name',how='left').dropna()"
   ]
  },
  {
   "cell_type": "code",
   "execution_count": null,
   "id": "8b5fd34d",
   "metadata": {},
   "outputs": [],
   "source": [
    "Rest_locations.head()"
   ]
  },
  {
   "cell_type": "code",
   "execution_count": null,
   "id": "b30fc4fe",
   "metadata": {},
   "outputs": [],
   "source": [
    "Rest_locations['lat'].dtype"
   ]
  },
  {
   "cell_type": "code",
   "execution_count": null,
   "id": "59a608a6",
   "metadata": {},
   "outputs": [],
   "source": [
    "Rest_locations.loc[Rest_locations['count']==4210,'lon']=77.604565"
   ]
  },
  {
   "cell_type": "code",
   "execution_count": null,
   "id": "88ee993a",
   "metadata": {},
   "outputs": [],
   "source": [
    "Rest_locations.head()"
   ]
  },
  {
   "cell_type": "code",
   "execution_count": null,
   "id": "5c05bb79",
   "metadata": {},
   "outputs": [],
   "source": [
    "np.array(Rest_locations['geo_loc'])"
   ]
  },
  {
   "cell_type": "code",
   "execution_count": null,
   "id": "53a55954",
   "metadata": {},
   "outputs": [],
   "source": [
    "lat,lon=zip(*np.array(Rest_locations['geo_loc']))"
   ]
  },
  {
   "cell_type": "code",
   "execution_count": null,
   "id": "80a4054a",
   "metadata": {},
   "outputs": [],
   "source": [
    "Rest_locations['lat']=lat\n",
    "Rest_locations['lon']=lon"
   ]
  },
  {
   "cell_type": "code",
   "execution_count": null,
   "id": "535bf28a",
   "metadata": {},
   "outputs": [],
   "source": [
    "Rest_locations.drop('geo_loc',axis=1,inplace=True)"
   ]
  },
  {
   "cell_type": "code",
   "execution_count": null,
   "id": "5a347861",
   "metadata": {},
   "outputs": [],
   "source": [
    "!pip install folium"
   ]
  },
  {
   "cell_type": "code",
   "execution_count": null,
   "id": "d0ec2027",
   "metadata": {},
   "outputs": [],
   "source": [
    "import folium"
   ]
  },
  {
   "cell_type": "code",
   "execution_count": null,
   "id": "e8b94dac",
   "metadata": {},
   "outputs": [],
   "source": [
    "from folium.plugins import HeatMap"
   ]
  },
  {
   "cell_type": "code",
   "execution_count": null,
   "id": "7e4d0b0e",
   "metadata": {},
   "outputs": [],
   "source": [
    "def generatebasemap(default_location=[12.811276,77.604565],default_zoom_start=12):\n",
    "    basemap=folium.Map(location=default_location,zoom_start=default_zoom_start)\n",
    "    return basemap"
   ]
  },
  {
   "cell_type": "code",
   "execution_count": null,
   "id": "18e5f2e5",
   "metadata": {},
   "outputs": [],
   "source": [
    "basemap=generatebasemap()"
   ]
  },
  {
   "cell_type": "code",
   "execution_count": null,
   "id": "5fa9e5a2",
   "metadata": {},
   "outputs": [],
   "source": [
    "basemap"
   ]
  },
  {
   "cell_type": "code",
   "execution_count": null,
   "id": "6f5b9ac7",
   "metadata": {},
   "outputs": [],
   "source": [
    "HeatMap(Rest_locations[['lat','lon','count']].values.tolist(),zomm=20,radius=15).add_to(basemap)"
   ]
  },
  {
   "cell_type": "code",
   "execution_count": null,
   "id": "05ad7fcf",
   "metadata": {},
   "outputs": [],
   "source": [
    "basemap"
   ]
  },
  {
   "cell_type": "code",
   "execution_count": null,
   "id": "0851a544",
   "metadata": {},
   "outputs": [],
   "source": [
    "df.head()"
   ]
  },
  {
   "cell_type": "code",
   "execution_count": null,
   "id": "b2d8b08e",
   "metadata": {},
   "outputs": [],
   "source": [
    "df2=df[df['cuisines']=='North Indian']\n",
    "df2.head()"
   ]
  },
  {
   "cell_type": "code",
   "execution_count": null,
   "id": "83f615fc",
   "metadata": {},
   "outputs": [],
   "source": [
    "north_indian=df2.groupby('location',as_index=False)['url'].agg('count')"
   ]
  },
  {
   "cell_type": "code",
   "execution_count": null,
   "id": "299c5c31",
   "metadata": {},
   "outputs": [],
   "source": [
    "north_indian.head()"
   ]
  },
  {
   "cell_type": "code",
   "execution_count": null,
   "id": "8ffe4e32",
   "metadata": {},
   "outputs": [],
   "source": [
    "north_indian.columns=['Name','count']"
   ]
  },
  {
   "cell_type": "code",
   "execution_count": null,
   "id": "75a4a071",
   "metadata": {},
   "outputs": [],
   "source": [
    "north_indian.head()"
   ]
  },
  {
   "cell_type": "code",
   "execution_count": null,
   "id": "c438353e",
   "metadata": {},
   "outputs": [],
   "source": [
    "north_indian=north_indian.merge(locations,on='Name',how='left').dropna()"
   ]
  },
  {
   "cell_type": "code",
   "execution_count": null,
   "id": "582add56",
   "metadata": {},
   "outputs": [],
   "source": [
    "north_indian.head()"
   ]
  },
  {
   "cell_type": "code",
   "execution_count": null,
   "id": "4d8b91bb",
   "metadata": {},
   "outputs": [],
   "source": [
    "north_indian.rename(columns={'geo_loc_x':'geo_loc'},inplace=True)"
   ]
  },
  {
   "cell_type": "code",
   "execution_count": null,
   "id": "d8faf048",
   "metadata": {},
   "outputs": [],
   "source": [
    "north_indian.head()"
   ]
  },
  {
   "cell_type": "code",
   "execution_count": null,
   "id": "38488955",
   "metadata": {},
   "outputs": [],
   "source": [
    "north_indian.drop(axis=1,columns='geo_loc_y',inplace=True)"
   ]
  },
  {
   "cell_type": "code",
   "execution_count": null,
   "id": "841165c4",
   "metadata": {},
   "outputs": [],
   "source": [
    "north_indian.head()"
   ]
  },
  {
   "cell_type": "code",
   "execution_count": null,
   "id": "905229bb",
   "metadata": {},
   "outputs": [],
   "source": [
    "north_indian['lat'],north_indian['lon']=zip(*north_indian['geo_loc'].values)"
   ]
  },
  {
   "cell_type": "code",
   "execution_count": null,
   "id": "905060d5",
   "metadata": {},
   "outputs": [],
   "source": [
    "north_indian.head()"
   ]
  },
  {
   "cell_type": "code",
   "execution_count": null,
   "id": "d26ee0bc",
   "metadata": {},
   "outputs": [],
   "source": [
    "north_indian.drop('geo_loc',axis=1,inplace=True)"
   ]
  },
  {
   "cell_type": "code",
   "execution_count": null,
   "id": "7d04d228",
   "metadata": {},
   "outputs": [],
   "source": [
    "north_indian.head()"
   ]
  },
  {
   "cell_type": "code",
   "execution_count": null,
   "id": "5b61fa29",
   "metadata": {},
   "outputs": [],
   "source": [
    "basemap=generatebasemap()\n",
    "HeatMap(north_indian[['lat','lon','count']].values.tolist(),zomm=20,radius=15).add_to(basemap)\n",
    "basemap"
   ]
  },
  {
   "cell_type": "code",
   "execution_count": null,
   "id": "3455bcb5",
   "metadata": {},
   "outputs": [],
   "source": []
  },
  {
   "cell_type": "code",
   "execution_count": null,
   "id": "3628b095",
   "metadata": {},
   "outputs": [],
   "source": [
    "df.head()"
   ]
  },
  {
   "cell_type": "code",
   "execution_count": null,
   "id": "1245f2ab",
   "metadata": {},
   "outputs": [],
   "source": [
    "df_1=df.groupby(['rest_type','name']).agg('count')"
   ]
  },
  {
   "cell_type": "code",
   "execution_count": null,
   "id": "73430fd3",
   "metadata": {},
   "outputs": [],
   "source": [
    "df_1.sort_values(['url'],ascending=False).groupby(['rest_type'],as_index=False).apply(lambda x: x.sort_values(by='url',ascending=False))"
   ]
  },
  {
   "cell_type": "code",
   "execution_count": null,
   "id": "e08b9417",
   "metadata": {},
   "outputs": [],
   "source": [
    "data=df_1.sort_values(['url'],ascending=False).groupby(['rest_type'],as_index=False).apply(lambda x: x.sort_values(by='url',ascending=False))['url'].reset_index().rename(columns={'url':'count'})"
   ]
  },
  {
   "cell_type": "code",
   "execution_count": null,
   "id": "4dcf844a",
   "metadata": {},
   "outputs": [],
   "source": [
    "data"
   ]
  },
  {
   "cell_type": "code",
   "execution_count": null,
   "id": "f7610e2b",
   "metadata": {},
   "outputs": [],
   "source": [
    "casual=data[data['rest_type']=='Casual Dining']\n",
    "casual"
   ]
  },
  {
   "cell_type": "code",
   "execution_count": null,
   "id": "38744ef0",
   "metadata": {},
   "outputs": [],
   "source": []
  },
  {
   "cell_type": "code",
   "execution_count": null,
   "id": "aaf4ff80",
   "metadata": {},
   "outputs": [],
   "source": [
    "df['rest_type'].unique()"
   ]
  },
  {
   "cell_type": "code",
   "execution_count": null,
   "id": "b6502aff",
   "metadata": {},
   "outputs": [],
   "source": [
    "df.head()"
   ]
  },
  {
   "cell_type": "code",
   "execution_count": null,
   "id": "e40aec6b",
   "metadata": {},
   "outputs": [],
   "source": [
    "df[['votes','rate']].corr()"
   ]
  },
  {
   "cell_type": "code",
   "execution_count": null,
   "id": "df4dde38",
   "metadata": {},
   "outputs": [],
   "source": [
    "df.columns\n"
   ]
  },
  {
   "cell_type": "code",
   "execution_count": null,
   "id": "8ad1a709",
   "metadata": {},
   "outputs": [],
   "source": [
    "df.corr()"
   ]
  }
 ],
 "metadata": {
  "kernelspec": {
   "display_name": "Python 3 (ipykernel)",
   "language": "python",
   "name": "python3"
  },
  "language_info": {
   "codemirror_mode": {
    "name": "ipython",
    "version": 3
   },
   "file_extension": ".py",
   "mimetype": "text/x-python",
   "name": "python",
   "nbconvert_exporter": "python",
   "pygments_lexer": "ipython3",
   "version": "3.9.13"
  }
 },
 "nbformat": 4,
 "nbformat_minor": 5
}
